{
 "cells": [
  {
   "cell_type": "code",
   "execution_count": 1,
   "id": "13975cd4",
   "metadata": {
    "ExecuteTime": {
     "end_time": "2023-01-06T20:23:15.922722Z",
     "start_time": "2023-01-06T20:23:15.759914Z"
    }
   },
   "outputs": [],
   "source": [
    "# Main NMF equation: v = w*h --> (r*c) = (r*t)*(t*c)\n",
    "\n",
    "import numpy as np\n",
    "import tqdm\n"
   ]
  },
  {
   "cell_type": "code",
   "execution_count": null,
   "id": "2d0c8ffb",
   "metadata": {},
   "outputs": [],
   "source": [
    "def kl(v, w, h):\n",
    "    #find KL routines "
   ]
  },
  {
   "cell_type": "code",
   "execution_count": 14,
   "id": "1682d4f5",
   "metadata": {
    "ExecuteTime": {
     "end_time": "2023-01-06T20:35:14.276349Z",
     "start_time": "2023-01-06T20:35:14.266602Z"
    }
   },
   "outputs": [
    {
     "name": "stdout",
     "output_type": "stream",
     "text": [
      "w:\n",
      "[[0 8 1 1 1 5 9 5 3 9]\n",
      " [9 1 1 2 0 7 5 8 5 3]\n",
      " [0 7 8 0 3 9 4 5 1 5]\n",
      " [3 6 4 1 5 5 0 8 5 7]\n",
      " [3 9 7 4 8 1 0 8 6 9]\n",
      " [7 7 8 6 2 7 7 4 8 6]\n",
      " [6 6 2 0 4 6 4 0 5 2]\n",
      " [3 4 5 7 3 5 1 0 0 6]\n",
      " [3 5 5 4 9 4 6 5 4 3]\n",
      " [6 1 0 6 9 1 5 3 1 3]\n",
      " [9 1 4 7 5 4 7 4 4 6]\n",
      " [8 0 2 7 0 9 8 4 0 3]]\n",
      "h:\n",
      "[[3 7 7 9 5 2 7 5 7 1 4 7 5 3 5 7 1 6 4 5]\n",
      " [3 7 4 3 7 7 2 9 8 3 0 2 0 4 8 9 7 7 5 0]\n",
      " [0 1 6 9 6 4 9 1 7 8 4 2 2 0 1 8 6 1 1 9]\n",
      " [1 0 8 4 6 7 6 2 2 9 1 6 3 8 6 7 8 7 6 0]\n",
      " [0 5 2 4 2 8 0 9 3 3 1 6 9 5 0 9 9 5 7 6]\n",
      " [7 2 5 6 7 0 7 3 4 8 7 0 4 6 8 9 6 1 1 2]\n",
      " [0 2 3 1 2 5 8 9 7 1 1 8 7 7 4 2 6 6 8 0]\n",
      " [3 9 3 2 9 8 7 5 0 9 2 0 9 3 9 4 2 8 2 7]\n",
      " [4 5 9 7 3 3 0 2 3 5 7 0 3 5 5 7 3 5 6 4]\n",
      " [6 6 8 4 2 2 4 5 6 6 7 4 8 8 4 4 2 7 1 6]]\n"
     ]
    }
   ],
   "source": [
    "random_init = True\n",
    "\n",
    "#global parameters\n",
    "numtopics = 10\n",
    "iter_tol = 10e-4 #Tolerance for converging iterations\n",
    "\n",
    "#Params for random initialization\n",
    "\n",
    "if random_init:\n",
    "    numrows = 12\n",
    "    numcols = 20\n",
    "    low_init = 0\n",
    "    high_init = 10\n",
    "    w = np.random.randint(low_init, high_init, numrows*numtopics).reshape(numrows, numtopics)\n",
    "    h = np.random.randint(low_init, high_init, numtopics*numcols).reshape(numtopics,numcols)\n",
    "    \n",
    "else:\n",
    "    pass\n",
    "    #write corpus parser here\n",
    "\n",
    "v = np.dot(w, h)\n",
    "print('w:')\n",
    "print(w)\n",
    "print('h:')\n",
    "print(h)"
   ]
  },
  {
   "cell_type": "code",
   "execution_count": null,
   "id": "d11056e7",
   "metadata": {},
   "outputs": [],
   "source": [
    "\n",
    "while kl(v, w, h) > iter_tol:"
   ]
  },
  {
   "cell_type": "code",
   "execution_count": null,
   "id": "06ab4eca",
   "metadata": {},
   "outputs": [],
   "source": []
  }
 ],
 "metadata": {
  "kernelspec": {
   "display_name": "Python 3 (ipykernel)",
   "language": "python",
   "name": "python3"
  },
  "language_info": {
   "codemirror_mode": {
    "name": "ipython",
    "version": 3
   },
   "file_extension": ".py",
   "mimetype": "text/x-python",
   "name": "python",
   "nbconvert_exporter": "python",
   "pygments_lexer": "ipython3",
   "version": "3.11.0"
  },
  "toc": {
   "base_numbering": 1,
   "nav_menu": {},
   "number_sections": true,
   "sideBar": true,
   "skip_h1_title": false,
   "title_cell": "Table of Contents",
   "title_sidebar": "Contents",
   "toc_cell": false,
   "toc_position": {},
   "toc_section_display": true,
   "toc_window_display": false
  }
 },
 "nbformat": 4,
 "nbformat_minor": 5
}
